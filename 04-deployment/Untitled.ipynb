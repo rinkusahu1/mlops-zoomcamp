{
 "cells": [
  {
   "cell_type": "code",
   "execution_count": 3,
   "id": "6edc033a-7fa0-4ac3-9355-ac75f2a6c4be",
   "metadata": {},
   "outputs": [
    {
     "name": "stdout",
     "output_type": "stream",
     "text": [
      "\n",
      "<botocore.awsrequest.AWSRequest object at 0x7585aaeec510>\n"
     ]
    }
   ],
   "source": [
    "!aws s3 ls --profile mlflow-caccess"
   ]
  },
  {
   "cell_type": "code",
   "execution_count": null,
   "id": "0e0e96a1-ef81-4f7f-9ff4-aa65ea9a9ff1",
   "metadata": {},
   "outputs": [],
   "source": []
  }
 ],
 "metadata": {
  "kernelspec": {
   "display_name": "Python 3 (ipykernel)",
   "language": "python",
   "name": "python3"
  },
  "language_info": {
   "codemirror_mode": {
    "name": "ipython",
    "version": 3
   },
   "file_extension": ".py",
   "mimetype": "text/x-python",
   "name": "python",
   "nbconvert_exporter": "python",
   "pygments_lexer": "ipython3",
   "version": "3.9.19"
  }
 },
 "nbformat": 4,
 "nbformat_minor": 5
}
